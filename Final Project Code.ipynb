{
 "cells": [
  {
   "cell_type": "code",
   "execution_count": 1,
   "metadata": {},
   "outputs": [
    {
     "data": {
      "text/html": [
       "<div>\n",
       "<style scoped>\n",
       "    .dataframe tbody tr th:only-of-type {\n",
       "        vertical-align: middle;\n",
       "    }\n",
       "\n",
       "    .dataframe tbody tr th {\n",
       "        vertical-align: top;\n",
       "    }\n",
       "\n",
       "    .dataframe thead th {\n",
       "        text-align: right;\n",
       "    }\n",
       "</style>\n",
       "<table border=\"1\" class=\"dataframe\">\n",
       "  <thead>\n",
       "    <tr style=\"text-align: right;\">\n",
       "      <th></th>\n",
       "      <th>A28102_at</th>\n",
       "      <th>AB000114_at</th>\n",
       "      <th>AB000115_at</th>\n",
       "      <th>AB000220_at</th>\n",
       "      <th>AB000409_at</th>\n",
       "      <th>AB000462_at</th>\n",
       "      <th>AB000905_at</th>\n",
       "      <th>AB001106_at</th>\n",
       "      <th>AB001325_at</th>\n",
       "      <th>AB002314_at</th>\n",
       "      <th>...</th>\n",
       "      <th>Z78290_at</th>\n",
       "      <th>Z78291_at</th>\n",
       "      <th>Z80780_f_at</th>\n",
       "      <th>Z83336_at</th>\n",
       "      <th>Z84497_s_at</th>\n",
       "      <th>Z84721_cds2_at</th>\n",
       "      <th>Z96810_at</th>\n",
       "      <th>Z97054_xpt2_at</th>\n",
       "      <th>Z97074_at</th>\n",
       "      <th>class</th>\n",
       "    </tr>\n",
       "  </thead>\n",
       "  <tbody>\n",
       "    <tr>\n",
       "      <th>0</th>\n",
       "      <td>766.641438</td>\n",
       "      <td>555.720641</td>\n",
       "      <td>691.214533</td>\n",
       "      <td>541.307724</td>\n",
       "      <td>1071.146880</td>\n",
       "      <td>792.385579</td>\n",
       "      <td>619.781103</td>\n",
       "      <td>1025.738198</td>\n",
       "      <td>2779.694245</td>\n",
       "      <td>1700.876595</td>\n",
       "      <td>...</td>\n",
       "      <td>530.935458</td>\n",
       "      <td>792.386891</td>\n",
       "      <td>943.022578</td>\n",
       "      <td>2015.213350</td>\n",
       "      <td>1543.697899</td>\n",
       "      <td>905.578221</td>\n",
       "      <td>580.771046</td>\n",
       "      <td>955.626595</td>\n",
       "      <td>707.119503</td>\n",
       "      <td>1</td>\n",
       "    </tr>\n",
       "    <tr>\n",
       "      <th>1</th>\n",
       "      <td>773.865121</td>\n",
       "      <td>422.732757</td>\n",
       "      <td>856.915398</td>\n",
       "      <td>499.503064</td>\n",
       "      <td>1011.280030</td>\n",
       "      <td>617.507703</td>\n",
       "      <td>505.821700</td>\n",
       "      <td>655.536193</td>\n",
       "      <td>1843.701009</td>\n",
       "      <td>766.059861</td>\n",
       "      <td>...</td>\n",
       "      <td>343.393956</td>\n",
       "      <td>645.725704</td>\n",
       "      <td>974.032487</td>\n",
       "      <td>1616.648782</td>\n",
       "      <td>949.922140</td>\n",
       "      <td>3936.153114</td>\n",
       "      <td>472.418713</td>\n",
       "      <td>1272.108045</td>\n",
       "      <td>783.978554</td>\n",
       "      <td>1</td>\n",
       "    </tr>\n",
       "    <tr>\n",
       "      <th>2</th>\n",
       "      <td>1405.578179</td>\n",
       "      <td>600.159750</td>\n",
       "      <td>694.416481</td>\n",
       "      <td>603.836308</td>\n",
       "      <td>1044.097223</td>\n",
       "      <td>967.313015</td>\n",
       "      <td>717.910395</td>\n",
       "      <td>721.028208</td>\n",
       "      <td>2703.723537</td>\n",
       "      <td>867.727801</td>\n",
       "      <td>...</td>\n",
       "      <td>448.760272</td>\n",
       "      <td>828.594555</td>\n",
       "      <td>1050.967660</td>\n",
       "      <td>1709.782968</td>\n",
       "      <td>1332.655612</td>\n",
       "      <td>1319.648120</td>\n",
       "      <td>583.712057</td>\n",
       "      <td>791.795105</td>\n",
       "      <td>748.638380</td>\n",
       "      <td>1</td>\n",
       "    </tr>\n",
       "    <tr>\n",
       "      <th>3</th>\n",
       "      <td>998.368321</td>\n",
       "      <td>454.351773</td>\n",
       "      <td>761.426765</td>\n",
       "      <td>430.826342</td>\n",
       "      <td>1374.274472</td>\n",
       "      <td>988.899602</td>\n",
       "      <td>826.692307</td>\n",
       "      <td>594.652405</td>\n",
       "      <td>2135.669535</td>\n",
       "      <td>630.307428</td>\n",
       "      <td>...</td>\n",
       "      <td>452.216029</td>\n",
       "      <td>822.799022</td>\n",
       "      <td>1415.209203</td>\n",
       "      <td>1928.461252</td>\n",
       "      <td>1243.863285</td>\n",
       "      <td>2064.441780</td>\n",
       "      <td>449.752520</td>\n",
       "      <td>1373.169909</td>\n",
       "      <td>967.288647</td>\n",
       "      <td>1</td>\n",
       "    </tr>\n",
       "    <tr>\n",
       "      <th>4</th>\n",
       "      <td>1196.410368</td>\n",
       "      <td>837.224699</td>\n",
       "      <td>1037.254172</td>\n",
       "      <td>839.575270</td>\n",
       "      <td>1494.958842</td>\n",
       "      <td>1017.309575</td>\n",
       "      <td>810.960716</td>\n",
       "      <td>1761.303323</td>\n",
       "      <td>2476.553302</td>\n",
       "      <td>1837.374065</td>\n",
       "      <td>...</td>\n",
       "      <td>390.908109</td>\n",
       "      <td>638.825417</td>\n",
       "      <td>1304.754746</td>\n",
       "      <td>1538.822713</td>\n",
       "      <td>1568.696006</td>\n",
       "      <td>954.599133</td>\n",
       "      <td>507.218794</td>\n",
       "      <td>1757.786262</td>\n",
       "      <td>904.119880</td>\n",
       "      <td>1</td>\n",
       "    </tr>\n",
       "    <tr>\n",
       "      <th>...</th>\n",
       "      <td>...</td>\n",
       "      <td>...</td>\n",
       "      <td>...</td>\n",
       "      <td>...</td>\n",
       "      <td>...</td>\n",
       "      <td>...</td>\n",
       "      <td>...</td>\n",
       "      <td>...</td>\n",
       "      <td>...</td>\n",
       "      <td>...</td>\n",
       "      <td>...</td>\n",
       "      <td>...</td>\n",
       "      <td>...</td>\n",
       "      <td>...</td>\n",
       "      <td>...</td>\n",
       "      <td>...</td>\n",
       "      <td>...</td>\n",
       "      <td>...</td>\n",
       "      <td>...</td>\n",
       "      <td>...</td>\n",
       "      <td>...</td>\n",
       "    </tr>\n",
       "    <tr>\n",
       "      <th>72</th>\n",
       "      <td>715.334712</td>\n",
       "      <td>521.978990</td>\n",
       "      <td>868.721379</td>\n",
       "      <td>545.226945</td>\n",
       "      <td>1241.448009</td>\n",
       "      <td>893.799889</td>\n",
       "      <td>727.559476</td>\n",
       "      <td>1314.202356</td>\n",
       "      <td>2405.474560</td>\n",
       "      <td>890.909971</td>\n",
       "      <td>...</td>\n",
       "      <td>696.451067</td>\n",
       "      <td>1392.073303</td>\n",
       "      <td>1375.191506</td>\n",
       "      <td>1992.752235</td>\n",
       "      <td>1534.930747</td>\n",
       "      <td>969.386619</td>\n",
       "      <td>652.320983</td>\n",
       "      <td>952.216022</td>\n",
       "      <td>1394.317578</td>\n",
       "      <td>0</td>\n",
       "    </tr>\n",
       "    <tr>\n",
       "      <th>73</th>\n",
       "      <td>1469.582552</td>\n",
       "      <td>864.323464</td>\n",
       "      <td>1097.449801</td>\n",
       "      <td>877.149345</td>\n",
       "      <td>1518.529512</td>\n",
       "      <td>1310.957017</td>\n",
       "      <td>934.490446</td>\n",
       "      <td>1089.725369</td>\n",
       "      <td>2616.695315</td>\n",
       "      <td>1780.554584</td>\n",
       "      <td>...</td>\n",
       "      <td>391.279377</td>\n",
       "      <td>787.590617</td>\n",
       "      <td>1138.129454</td>\n",
       "      <td>1487.264985</td>\n",
       "      <td>2133.514402</td>\n",
       "      <td>1147.144259</td>\n",
       "      <td>538.414956</td>\n",
       "      <td>1063.618712</td>\n",
       "      <td>716.939115</td>\n",
       "      <td>0</td>\n",
       "    </tr>\n",
       "    <tr>\n",
       "      <th>74</th>\n",
       "      <td>773.449718</td>\n",
       "      <td>574.023235</td>\n",
       "      <td>683.639082</td>\n",
       "      <td>557.992828</td>\n",
       "      <td>1082.058385</td>\n",
       "      <td>995.836993</td>\n",
       "      <td>571.723012</td>\n",
       "      <td>855.078651</td>\n",
       "      <td>2054.126204</td>\n",
       "      <td>606.404065</td>\n",
       "      <td>...</td>\n",
       "      <td>352.764014</td>\n",
       "      <td>759.073079</td>\n",
       "      <td>956.653664</td>\n",
       "      <td>1605.258162</td>\n",
       "      <td>1756.908968</td>\n",
       "      <td>3155.294621</td>\n",
       "      <td>468.296912</td>\n",
       "      <td>1307.294600</td>\n",
       "      <td>771.630292</td>\n",
       "      <td>0</td>\n",
       "    </tr>\n",
       "    <tr>\n",
       "      <th>75</th>\n",
       "      <td>1051.385520</td>\n",
       "      <td>635.089523</td>\n",
       "      <td>807.437439</td>\n",
       "      <td>759.467597</td>\n",
       "      <td>1288.913105</td>\n",
       "      <td>998.513907</td>\n",
       "      <td>706.920273</td>\n",
       "      <td>918.844430</td>\n",
       "      <td>2446.185425</td>\n",
       "      <td>872.564528</td>\n",
       "      <td>...</td>\n",
       "      <td>453.422201</td>\n",
       "      <td>817.909763</td>\n",
       "      <td>1090.112573</td>\n",
       "      <td>1742.877172</td>\n",
       "      <td>1586.933774</td>\n",
       "      <td>964.280524</td>\n",
       "      <td>659.021178</td>\n",
       "      <td>853.967632</td>\n",
       "      <td>734.264437</td>\n",
       "      <td>0</td>\n",
       "    </tr>\n",
       "    <tr>\n",
       "      <th>76</th>\n",
       "      <td>1002.147982</td>\n",
       "      <td>699.537355</td>\n",
       "      <td>913.208019</td>\n",
       "      <td>606.505939</td>\n",
       "      <td>1199.067588</td>\n",
       "      <td>1112.324277</td>\n",
       "      <td>649.252247</td>\n",
       "      <td>1079.255711</td>\n",
       "      <td>2853.676182</td>\n",
       "      <td>1701.422787</td>\n",
       "      <td>...</td>\n",
       "      <td>398.419241</td>\n",
       "      <td>752.964247</td>\n",
       "      <td>1057.708649</td>\n",
       "      <td>1751.543447</td>\n",
       "      <td>1828.960742</td>\n",
       "      <td>1164.746332</td>\n",
       "      <td>475.584991</td>\n",
       "      <td>720.107842</td>\n",
       "      <td>741.942476</td>\n",
       "      <td>0</td>\n",
       "    </tr>\n",
       "  </tbody>\n",
       "</table>\n",
       "<p>77 rows × 2648 columns</p>\n",
       "</div>"
      ],
      "text/plain": [
       "      A28102_at  AB000114_at  AB000115_at  AB000220_at  AB000409_at  \\\n",
       "0    766.641438   555.720641   691.214533   541.307724  1071.146880   \n",
       "1    773.865121   422.732757   856.915398   499.503064  1011.280030   \n",
       "2   1405.578179   600.159750   694.416481   603.836308  1044.097223   \n",
       "3    998.368321   454.351773   761.426765   430.826342  1374.274472   \n",
       "4   1196.410368   837.224699  1037.254172   839.575270  1494.958842   \n",
       "..          ...          ...          ...          ...          ...   \n",
       "72   715.334712   521.978990   868.721379   545.226945  1241.448009   \n",
       "73  1469.582552   864.323464  1097.449801   877.149345  1518.529512   \n",
       "74   773.449718   574.023235   683.639082   557.992828  1082.058385   \n",
       "75  1051.385520   635.089523   807.437439   759.467597  1288.913105   \n",
       "76  1002.147982   699.537355   913.208019   606.505939  1199.067588   \n",
       "\n",
       "    AB000462_at  AB000905_at  AB001106_at  AB001325_at  AB002314_at  ...  \\\n",
       "0    792.385579   619.781103  1025.738198  2779.694245  1700.876595  ...   \n",
       "1    617.507703   505.821700   655.536193  1843.701009   766.059861  ...   \n",
       "2    967.313015   717.910395   721.028208  2703.723537   867.727801  ...   \n",
       "3    988.899602   826.692307   594.652405  2135.669535   630.307428  ...   \n",
       "4   1017.309575   810.960716  1761.303323  2476.553302  1837.374065  ...   \n",
       "..          ...          ...          ...          ...          ...  ...   \n",
       "72   893.799889   727.559476  1314.202356  2405.474560   890.909971  ...   \n",
       "73  1310.957017   934.490446  1089.725369  2616.695315  1780.554584  ...   \n",
       "74   995.836993   571.723012   855.078651  2054.126204   606.404065  ...   \n",
       "75   998.513907   706.920273   918.844430  2446.185425   872.564528  ...   \n",
       "76  1112.324277   649.252247  1079.255711  2853.676182  1701.422787  ...   \n",
       "\n",
       "     Z78290_at    Z78291_at  Z80780_f_at    Z83336_at  Z84497_s_at  \\\n",
       "0   530.935458   792.386891   943.022578  2015.213350  1543.697899   \n",
       "1   343.393956   645.725704   974.032487  1616.648782   949.922140   \n",
       "2   448.760272   828.594555  1050.967660  1709.782968  1332.655612   \n",
       "3   452.216029   822.799022  1415.209203  1928.461252  1243.863285   \n",
       "4   390.908109   638.825417  1304.754746  1538.822713  1568.696006   \n",
       "..         ...          ...          ...          ...          ...   \n",
       "72  696.451067  1392.073303  1375.191506  1992.752235  1534.930747   \n",
       "73  391.279377   787.590617  1138.129454  1487.264985  2133.514402   \n",
       "74  352.764014   759.073079   956.653664  1605.258162  1756.908968   \n",
       "75  453.422201   817.909763  1090.112573  1742.877172  1586.933774   \n",
       "76  398.419241   752.964247  1057.708649  1751.543447  1828.960742   \n",
       "\n",
       "    Z84721_cds2_at   Z96810_at  Z97054_xpt2_at    Z97074_at  class  \n",
       "0       905.578221  580.771046      955.626595   707.119503      1  \n",
       "1      3936.153114  472.418713     1272.108045   783.978554      1  \n",
       "2      1319.648120  583.712057      791.795105   748.638380      1  \n",
       "3      2064.441780  449.752520     1373.169909   967.288647      1  \n",
       "4       954.599133  507.218794     1757.786262   904.119880      1  \n",
       "..             ...         ...             ...          ...    ...  \n",
       "72      969.386619  652.320983      952.216022  1394.317578      0  \n",
       "73     1147.144259  538.414956     1063.618712   716.939115      0  \n",
       "74     3155.294621  468.296912     1307.294600   771.630292      0  \n",
       "75      964.280524  659.021178      853.967632   734.264437      0  \n",
       "76     1164.746332  475.584991      720.107842   741.942476      0  \n",
       "\n",
       "[77 rows x 2648 columns]"
      ]
     },
     "execution_count": 1,
     "metadata": {},
     "output_type": "execute_result"
    }
   ],
   "source": [
    "#Import Limphoma_Microarray.csv file\n",
    "import pandas as pd\n",
    "import numpy as np\n",
    "\n",
    "# Outcome of Interest (class): 58 Diffuse large B-cell (1); 19 follicular lymphoma (0)\n",
    "\n",
    "df_fp = pd.read_csv(\"Limphoma_Microarray.csv\", sep=\",\")\n",
    "df_fp = df_fp.drop('id',axis=1)\n",
    "df_fp"
   ]
  },
  {
   "cell_type": "code",
   "execution_count": 2,
   "metadata": {},
   "outputs": [
    {
     "data": {
      "text/plain": [
       "1    58\n",
       "0    19\n",
       "Name: class, dtype: int64"
      ]
     },
     "execution_count": 2,
     "metadata": {},
     "output_type": "execute_result"
    }
   ],
   "source": [
    "#Check if outcome variable is imbalanced\n",
    "df_fp['class'].value_counts()"
   ]
  },
  {
   "cell_type": "markdown",
   "metadata": {},
   "source": [
    "As data is imbalanced (58:19), need to keep this in mind when looking at sensitivity and specificity"
   ]
  },
  {
   "cell_type": "code",
   "execution_count": 3,
   "metadata": {},
   "outputs": [],
   "source": [
    "#Creating separate arrays for the features and outcome to split\n",
    "df_features = df_fp.drop('class',axis=1).values\n",
    "df_outcome = df_fp['class'].values"
   ]
  },
  {
   "cell_type": "code",
   "execution_count": 4,
   "metadata": {},
   "outputs": [
    {
     "data": {
      "text/plain": [
       "array([[0.10566513, 0.16040906, 0.02684332, ..., 0.16150763, 0.11309102,\n",
       "        0.1019085 ],\n",
       "       [0.10902269, 0.04248828, 0.04887435, ..., 0.06981357, 0.22398458,\n",
       "        0.1457849 ],\n",
       "       [0.40264295, 0.19981336, 0.02726904, ..., 0.16399648, 0.05568526,\n",
       "        0.12561031],\n",
       "       ...,\n",
       "       [0.10882961, 0.17663803, 0.02583612, ..., 0.06632546, 0.23631378,\n",
       "        0.13873567],\n",
       "       [0.23801419, 0.2307857 , 0.04229593, ..., 0.22772745, 0.07747021,\n",
       "        0.11740468],\n",
       "       [0.21512858, 0.2879318 , 0.05635882, ..., 0.07249306, 0.03056639,\n",
       "        0.12178783]])"
      ]
     },
     "execution_count": 4,
     "metadata": {},
     "output_type": "execute_result"
    }
   ],
   "source": [
    "# Normalizing data for KNN Between 0 and 1\n",
    "from sklearn import preprocessing\n",
    "min_max_scaler = preprocessing.MinMaxScaler()\n",
    "df_features = min_max_scaler.fit_transform(df_features)\n",
    "df_features"
   ]
  },
  {
   "cell_type": "code",
   "execution_count": 5,
   "metadata": {},
   "outputs": [],
   "source": [
    "#Splitting data into test (20%) and train (80%)\n",
    "from sklearn.model_selection import train_test_split\n",
    "x_train, x_test, y_train, y_test = train_test_split(df_features, df_outcome, test_size=0.2, random_state=42)"
   ]
  },
  {
   "cell_type": "code",
   "execution_count": 6,
   "metadata": {},
   "outputs": [
    {
     "name": "stdout",
     "output_type": "stream",
     "text": [
      "(61, 2647)\n",
      "(61,)\n"
     ]
    }
   ],
   "source": [
    "#Checking \n",
    "print(x_train.shape)\n",
    "print(y_train.shape)"
   ]
  },
  {
   "cell_type": "code",
   "execution_count": 7,
   "metadata": {},
   "outputs": [],
   "source": [
    "#Importing tools from sklearn for KNN (and also rest of models)\n",
    "from sklearn.metrics import classification_report\n",
    "from sklearn.metrics import confusion_matrix\n",
    "from sklearn.metrics import accuracy_score\n",
    "from sklearn.metrics import roc_curve\n",
    "from sklearn.metrics import roc_auc_score\n",
    "from sklearn.model_selection import GridSearchCV\n",
    "import matplotlib.pyplot as plt\n",
    "from sklearn.neighbors import KNeighborsClassifier\n",
    "from sklearn.metrics import accuracy_score"
   ]
  },
  {
   "cell_type": "code",
   "execution_count": 8,
   "metadata": {},
   "outputs": [
    {
     "data": {
      "text/plain": [
       "Text(0, 0.5, 'Accuracy')"
      ]
     },
     "execution_count": 8,
     "metadata": {},
     "output_type": "execute_result"
    },
    {
     "data": {
      "image/png": "[encoded data removed]",
      "text/plain": [
       "<Figure size 432x288 with 1 Axes>"
      ]
     },
     "metadata": {
      "needs_background": "light"
     },
     "output_type": "display_data"
    }
   ],
   "source": [
    "# Create a list of k neighbors to test from 1-50\n",
    "numNeighbors = list(range(1, 50))\n",
    "# Empty list to store training accuracy\n",
    "trainAcc = []\n",
    "# Empty list to store testing accuracy\n",
    "testAcc = []\n",
    "\n",
    "#Gain accuracy values for test and train at different k by numNeighbors list\n",
    "import matplotlib.pyplot as plt\n",
    "for k in numNeighbors:\n",
    "    knn = KNeighborsClassifier(n_neighbors=k, metric='minkowski')\n",
    "    knn.fit(x_train, y_train)\n",
    "    \n",
    "    # predicted values for x_train\n",
    "    y_predtrain = knn.predict(x_train)\n",
    "    \n",
    "    # accuracy scores against Y_train\n",
    "    trainAcc.append(accuracy_score(y_train, y_predtrain))\n",
    "    \n",
    "    # predicted values for x_test\n",
    "    y_predtest = knn.predict(x_test)\n",
    "\n",
    "    # accuracy scores against Y_test\n",
    "    testAcc.append(accuracy_score(y_test, y_predtest))\n",
    "    \n",
    "#Line plot of accuracy vs k by test and train set\n",
    "plt.plot(numNeighbors, trainAcc, 'ro-', numNeighbors, testAcc,'bv--')\n",
    "plt.legend(['Training Accuracy','Test Accuracy'])\n",
    "plt.xlabel('Number of neighbors')\n",
    "plt.ylabel('Accuracy')"
   ]
  },
  {
   "cell_type": "markdown",
   "metadata": {},
   "source": [
    "K=8 seems to be the optimal # of k"
   ]
  },
  {
   "cell_type": "code",
   "execution_count": 9,
   "metadata": {},
   "outputs": [],
   "source": [
    "#Creating KNN model with k=8\n",
    "knn2 = KNeighborsClassifier(n_neighbors=8, metric='minkowski', p=2)"
   ]
  },
  {
   "cell_type": "code",
   "execution_count": 10,
   "metadata": {},
   "outputs": [
    {
     "data": {
      "text/plain": [
       "0.9375"
      ]
     },
     "execution_count": 10,
     "metadata": {},
     "output_type": "execute_result"
    }
   ],
   "source": [
    "#Accuracy score for model with k=8\n",
    "knn2.fit(x_train, y_train)\n",
    "knn2.score(x_test,y_test)"
   ]
  },
  {
   "cell_type": "code",
   "execution_count": 11,
   "metadata": {},
   "outputs": [
    {
     "data": {
      "text/html": [
       "<div>\n",
       "<style scoped>\n",
       "    .dataframe tbody tr th:only-of-type {\n",
       "        vertical-align: middle;\n",
       "    }\n",
       "\n",
       "    .dataframe tbody tr th {\n",
       "        vertical-align: top;\n",
       "    }\n",
       "\n",
       "    .dataframe thead th {\n",
       "        text-align: right;\n",
       "    }\n",
       "</style>\n",
       "<table border=\"1\" class=\"dataframe\">\n",
       "  <thead>\n",
       "    <tr style=\"text-align: right;\">\n",
       "      <th>Predicted</th>\n",
       "      <th>0</th>\n",
       "      <th>1</th>\n",
       "      <th>All</th>\n",
       "    </tr>\n",
       "    <tr>\n",
       "      <th>True</th>\n",
       "      <th></th>\n",
       "      <th></th>\n",
       "      <th></th>\n",
       "    </tr>\n",
       "  </thead>\n",
       "  <tbody>\n",
       "    <tr>\n",
       "      <th>0</th>\n",
       "      <td>4</td>\n",
       "      <td>0</td>\n",
       "      <td>4</td>\n",
       "    </tr>\n",
       "    <tr>\n",
       "      <th>1</th>\n",
       "      <td>1</td>\n",
       "      <td>11</td>\n",
       "      <td>12</td>\n",
       "    </tr>\n",
       "    <tr>\n",
       "      <th>All</th>\n",
       "      <td>5</td>\n",
       "      <td>11</td>\n",
       "      <td>16</td>\n",
       "    </tr>\n",
       "  </tbody>\n",
       "</table>\n",
       "</div>"
      ],
      "text/plain": [
       "Predicted  0   1  All\n",
       "True                 \n",
       "0          4   0    4\n",
       "1          1  11   12\n",
       "All        5  11   16"
      ]
     },
     "execution_count": 11,
     "metadata": {},
     "output_type": "execute_result"
    }
   ],
   "source": [
    "#Crosstab for model with k=8\n",
    "y_pred = knn2.predict(x_test)\n",
    "pd.crosstab(y_test, y_pred, rownames=['True'], colnames=['Predicted'], margins=True)"
   ]
  },
  {
   "cell_type": "code",
   "execution_count": 12,
   "metadata": {},
   "outputs": [
    {
     "name": "stdout",
     "output_type": "stream",
     "text": [
      "              precision    recall  f1-score   support\n",
      "\n",
      "           0       0.80      1.00      0.89         4\n",
      "           1       1.00      0.92      0.96        12\n",
      "\n",
      "    accuracy                           0.94        16\n",
      "   macro avg       0.90      0.96      0.92        16\n",
      "weighted avg       0.95      0.94      0.94        16\n",
      "\n"
     ]
    }
   ],
   "source": [
    "#Classification report for sensitivity, specificity, accuracy, and F1\n",
    "print(classification_report(y_test,y_pred))"
   ]
  },
  {
   "cell_type": "markdown",
   "metadata": {},
   "source": [
    "Interpretation:\n",
    "Accuracy: 94%\n",
    "Sensitivity: 100%\n",
    "Specificity: 80%\n",
    "F1: 96%\n",
    "    \n",
    "This model had no false positives. The F1 score of 96% is high."
   ]
  },
  {
   "cell_type": "code",
   "execution_count": 13,
   "metadata": {},
   "outputs": [],
   "source": [
    "#Preparation for ROC curve\n",
    "y_pred_proba = knn2.predict_proba(x_test)[:,1]\n",
    "fpr, tpr, thresholds = roc_curve(y_test, y_pred_proba)"
   ]
  },
  {
   "cell_type": "code",
   "execution_count": 14,
   "metadata": {
    "scrolled": true
   },
   "outputs": [
    {
     "data": {
      "image/png": "[encoded data removed]",
      "text/plain": [
       "<Figure size 432x288 with 1 Axes>"
      ]
     },
     "metadata": {
      "needs_background": "light"
     },
     "output_type": "display_data"
    }
   ],
   "source": [
    "#Plotting ROC curve to find area underneath\n",
    "plt.plot([0,1],[0,1],'k--')\n",
    "plt.plot(fpr,tpr, label='Knn')\n",
    "plt.xlabel('fpr')\n",
    "plt.ylabel('tpr')\n",
    "plt.title('Knn(n_neighbors=8) ROC curve')\n",
    "plt.show()"
   ]
  },
  {
   "cell_type": "code",
   "execution_count": 15,
   "metadata": {},
   "outputs": [
    {
     "name": "stdout",
     "output_type": "stream",
     "text": [
      "0.9791666666666666\n"
     ]
    }
   ],
   "source": [
    "print(roc_auc_score(y_test,y_pred_proba))"
   ]
  },
  {
   "cell_type": "code",
   "execution_count": 16,
   "metadata": {},
   "outputs": [],
   "source": [
    "#Naive Bayes\n",
    "#Using Gaussian method as covariates are all continuous\n",
    "from sklearn.naive_bayes import GaussianNB\n",
    "gnb=GaussianNB()\n",
    "gnb.fit(x_train, y_train)\n",
    "y_pred =gnb.predict(x_test)"
   ]
  },
  {
   "cell_type": "code",
   "execution_count": 17,
   "metadata": {},
   "outputs": [
    {
     "data": {
      "text/html": [
       "<div>\n",
       "<style scoped>\n",
       "    .dataframe tbody tr th:only-of-type {\n",
       "        vertical-align: middle;\n",
       "    }\n",
       "\n",
       "    .dataframe tbody tr th {\n",
       "        vertical-align: top;\n",
       "    }\n",
       "\n",
       "    .dataframe thead th {\n",
       "        text-align: right;\n",
       "    }\n",
       "</style>\n",
       "<table border=\"1\" class=\"dataframe\">\n",
       "  <thead>\n",
       "    <tr style=\"text-align: right;\">\n",
       "      <th>Predicted</th>\n",
       "      <th>0</th>\n",
       "      <th>1</th>\n",
       "      <th>All</th>\n",
       "    </tr>\n",
       "    <tr>\n",
       "      <th>True</th>\n",
       "      <th></th>\n",
       "      <th></th>\n",
       "      <th></th>\n",
       "    </tr>\n",
       "  </thead>\n",
       "  <tbody>\n",
       "    <tr>\n",
       "      <th>0</th>\n",
       "      <td>3</td>\n",
       "      <td>1</td>\n",
       "      <td>4</td>\n",
       "    </tr>\n",
       "    <tr>\n",
       "      <th>1</th>\n",
       "      <td>2</td>\n",
       "      <td>10</td>\n",
       "      <td>12</td>\n",
       "    </tr>\n",
       "    <tr>\n",
       "      <th>All</th>\n",
       "      <td>5</td>\n",
       "      <td>11</td>\n",
       "      <td>16</td>\n",
       "    </tr>\n",
       "  </tbody>\n",
       "</table>\n",
       "</div>"
      ],
      "text/plain": [
       "Predicted  0   1  All\n",
       "True                 \n",
       "0          3   1    4\n",
       "1          2  10   12\n",
       "All        5  11   16"
      ]
     },
     "execution_count": 17,
     "metadata": {},
     "output_type": "execute_result"
    }
   ],
   "source": [
    "#Creating crosstab to see TP, TN, FP, FN\n",
    "pd.crosstab(y_test, y_pred, rownames=['True'], colnames=['Predicted'], margins=True)"
   ]
  },
  {
   "cell_type": "code",
   "execution_count": 18,
   "metadata": {},
   "outputs": [
    {
     "name": "stdout",
     "output_type": "stream",
     "text": [
      "              precision    recall  f1-score   support\n",
      "\n",
      "           0       0.60      0.75      0.67         4\n",
      "           1       0.91      0.83      0.87        12\n",
      "\n",
      "    accuracy                           0.81        16\n",
      "   macro avg       0.75      0.79      0.77        16\n",
      "weighted avg       0.83      0.81      0.82        16\n",
      "\n"
     ]
    }
   ],
   "source": [
    "#Classification report for sensitivity, specificity, accuracy, and F1 for Naive Bayes Model\n",
    "print(classification_report(y_test,y_pred))"
   ]
  },
  {
   "cell_type": "markdown",
   "metadata": {},
   "source": [
    "Interpretation: \n",
    "Accuracy: 81%\n",
    "Sensitivity: 91%\n",
    "Specificity: 60%\n",
    "F1: 87%"
   ]
  },
  {
   "cell_type": "code",
   "execution_count": 20,
   "metadata": {},
   "outputs": [
    {
     "data": {
      "image/png": "[encoded data removed]",
      "text/plain": [
       "<Figure size 432x288 with 1 Axes>"
      ]
     },
     "metadata": {
      "needs_background": "light"
     },
     "output_type": "display_data"
    },
    {
     "data": {
      "text/plain": [
       "0.8541666666666666"
      ]
     },
     "execution_count": 20,
     "metadata": {},
     "output_type": "execute_result"
    }
   ],
   "source": [
    "#Creating and plotting ROC curve for Naive Bayes Model\n",
    "from sklearn.metrics import roc_curve\n",
    "y_pred_proba = gnb.predict_proba(x_test)[:,1]\n",
    "fpr, tpr, thresholds = roc_curve(y_test, y_pred_proba)\n",
    "\n",
    "plt.plot([0,1],[0,1],'k--')\n",
    "plt.plot(fpr,tpr, label='Categorical Naive Bayes')\n",
    "plt.xlabel('fpr')\n",
    "plt.ylabel('tpr')\n",
    "plt.title('Categorical Naive Bayes ROC curve')\n",
    "plt.show()\n",
    "\n",
    "#Area under ROC curve\n",
    "from sklearn.metrics import roc_auc_score\n",
    "roc_auc_score(y_test,y_pred_proba)"
   ]
  },
  {
   "cell_type": "code",
   "execution_count": 21,
   "metadata": {},
   "outputs": [
    {
     "name": "stdout",
     "output_type": "stream",
     "text": [
      "Accuracy on training set: 1.000\n",
      "Accuracy on test set: 0.688\n"
     ]
    },
    {
     "data": {
      "text/plain": [
       "Text(0, 0.5, 'Accuracy')"
      ]
     },
     "execution_count": 21,
     "metadata": {},
     "output_type": "execute_result"
    },
    {
     "data": {
      "image/png": "[encoded data removed]",
      "text/plain": [
       "<Figure size 432x288 with 1 Axes>"
      ]
     },
     "metadata": {
      "needs_background": "light"
     },
     "output_type": "display_data"
    }
   ],
   "source": [
    "#Decision Tree Model\n",
    "import matplotlib.pyplot as plt\n",
    "from sklearn.tree import DecisionTreeClassifier\n",
    "from sklearn import tree\n",
    "from sklearn.metrics import accuracy_score\n",
    "dt = tree.DecisionTreeClassifier()\n",
    "dt = dt.fit(x_train, y_train)\n",
    "dt\n",
    "print(\"Accuracy on training set: {:.3f}\".format(dt.score(x_train, y_train)))\n",
    "print(\"Accuracy on test set: {:.3f}\".format(dt.score(x_test, y_test)))\n",
    "#list of max_depth\n",
    "max_depthlist = list(range(1,15))\n",
    "# Empty list to store training accuracy\n",
    "trainAcc = []\n",
    "# Empty list to store testing accuracy\n",
    "testAcc = []\n",
    "\n",
    "#loop for collecting training and testing accuracies for varying max_depth\n",
    "for k in max_depthlist:\n",
    "    dt = tree.DecisionTreeClassifier(max_depth=k,random_state=42)\n",
    "    dt = dt.fit(x_train, y_train)\n",
    "    y_predTrain = dt.predict(x_train)\n",
    "    trainAcc.append(accuracy_score(y_train, y_predTrain))\n",
    "    y_predTest = dt.predict(x_test)\n",
    "    testAcc.append(accuracy_score(y_test, y_predTest))\n",
    "    # end of for loop statement\n",
    "\n",
    "#Plotting accuracy by max depth for decision tree\n",
    "plt.plot(max_depthlist, trainAcc, 'ro-', max_depthlist, testAcc,'bv--')\n",
    "plt.legend(['Training Accuracy','Test Accuracy'])\n",
    "plt.xlabel('Max_depth')\n",
    "plt.ylabel('Accuracy')"
   ]
  },
  {
   "cell_type": "code",
   "execution_count": 22,
   "metadata": {},
   "outputs": [
    {
     "data": {
      "text/plain": [
       "GridSearchCV(cv=10, estimator=DecisionTreeClassifier(random_state=42),\n",
       "             param_grid={'max_depth': array([ 1,  3,  5,  7,  9, 11, 13])})"
      ]
     },
     "execution_count": 22,
     "metadata": {},
     "output_type": "execute_result"
    }
   ],
   "source": [
    "#import GridSearchCV to tune max_depth\n",
    "from sklearn.model_selection import GridSearchCV\n",
    "# the parameter to be tuned is max_depth\n",
    "param_grid_depth = {'max_depth':np.arange(1,15,2)} # get a list of depth parameters\n",
    "tree = DecisionTreeClassifier(random_state=42)\n",
    "tree_cv_depth= GridSearchCV(tree,param_grid_depth,cv=10)\n",
    "tree_cv_depth.fit(x_train, y_train)"
   ]
  },
  {
   "cell_type": "code",
   "execution_count": 23,
   "metadata": {},
   "outputs": [
    {
     "name": "stdout",
     "output_type": "stream",
     "text": [
      "0.8857142857142858\n",
      "{'max_depth': 1}\n"
     ]
    }
   ],
   "source": [
    "print(tree_cv_depth.best_score_)\n",
    "print(tree_cv_depth.best_params_)"
   ]
  },
  {
   "cell_type": "code",
   "execution_count": 24,
   "metadata": {},
   "outputs": [
    {
     "data": {
      "text/plain": [
       "GridSearchCV(cv=10, estimator=DecisionTreeClassifier(random_state=42),\n",
       "             param_grid={'min_samples_split': array([ 5, 10, 15, 20, 25, 30, 35, 40, 45, 50, 55])})"
      ]
     },
     "execution_count": 24,
     "metadata": {},
     "output_type": "execute_result"
    }
   ],
   "source": [
    "#GridSearchCV to tune min_samples_split\n",
    "param_grid_split = {'min_samples_split':np.arange(5,60,5)} # get a list of minimum samples split starting with 10 , end 50 and increment with 5\n",
    "tree = DecisionTreeClassifier(random_state=42)\n",
    "tree_cv_split= GridSearchCV(tree,param_grid_split,cv=10)\n",
    "tree_cv_split.fit(x_train, y_train)"
   ]
  },
  {
   "cell_type": "code",
   "execution_count": 25,
   "metadata": {},
   "outputs": [
    {
     "name": "stdout",
     "output_type": "stream",
     "text": [
      "0.8857142857142858\n",
      "{'min_samples_split': 45}\n"
     ]
    }
   ],
   "source": [
    "print(tree_cv_split.best_score_)\n",
    "print(tree_cv_split.best_params_)"
   ]
  },
  {
   "cell_type": "code",
   "execution_count": 26,
   "metadata": {},
   "outputs": [
    {
     "data": {
      "text/plain": [
       "DecisionTreeClassifier(max_depth=1, min_samples_split=45, random_state=42)"
      ]
     },
     "execution_count": 26,
     "metadata": {},
     "output_type": "execute_result"
    }
   ],
   "source": [
    "#Running model w/ best parameters from above\n",
    "tree_final = DecisionTreeClassifier(max_depth=1, min_samples_split= 45,random_state=42)\n",
    "tree_final.fit(x_train, y_train)"
   ]
  },
  {
   "cell_type": "code",
   "execution_count": 27,
   "metadata": {},
   "outputs": [
    {
     "data": {
      "text/html": [
       "<div>\n",
       "<style scoped>\n",
       "    .dataframe tbody tr th:only-of-type {\n",
       "        vertical-align: middle;\n",
       "    }\n",
       "\n",
       "    .dataframe tbody tr th {\n",
       "        vertical-align: top;\n",
       "    }\n",
       "\n",
       "    .dataframe thead th {\n",
       "        text-align: right;\n",
       "    }\n",
       "</style>\n",
       "<table border=\"1\" class=\"dataframe\">\n",
       "  <thead>\n",
       "    <tr style=\"text-align: right;\">\n",
       "      <th>Predicted</th>\n",
       "      <th>0</th>\n",
       "      <th>1</th>\n",
       "      <th>All</th>\n",
       "    </tr>\n",
       "    <tr>\n",
       "      <th>True</th>\n",
       "      <th></th>\n",
       "      <th></th>\n",
       "      <th></th>\n",
       "    </tr>\n",
       "  </thead>\n",
       "  <tbody>\n",
       "    <tr>\n",
       "      <th>0</th>\n",
       "      <td>1</td>\n",
       "      <td>3</td>\n",
       "      <td>4</td>\n",
       "    </tr>\n",
       "    <tr>\n",
       "      <th>1</th>\n",
       "      <td>1</td>\n",
       "      <td>11</td>\n",
       "      <td>12</td>\n",
       "    </tr>\n",
       "    <tr>\n",
       "      <th>All</th>\n",
       "      <td>2</td>\n",
       "      <td>14</td>\n",
       "      <td>16</td>\n",
       "    </tr>\n",
       "  </tbody>\n",
       "</table>\n",
       "</div>"
      ],
      "text/plain": [
       "Predicted  0   1  All\n",
       "True                 \n",
       "0          1   3    4\n",
       "1          1  11   12\n",
       "All        2  14   16"
      ]
     },
     "execution_count": 27,
     "metadata": {},
     "output_type": "execute_result"
    }
   ],
   "source": [
    "#Confusion Matrix\n",
    "y_pred =tree_final.predict(x_test)\n",
    "pd.crosstab(y_test, y_pred, rownames=['True'], colnames=['Predicted'], margins=True)"
   ]
  },
  {
   "cell_type": "code",
   "execution_count": 28,
   "metadata": {},
   "outputs": [
    {
     "name": "stdout",
     "output_type": "stream",
     "text": [
      "0.75\n"
     ]
    }
   ],
   "source": [
    "#Finding the Accuracy of Test set\n",
    "accuracy = tree_final.score(x_test,y_test);\n",
    "print(accuracy)"
   ]
  },
  {
   "cell_type": "code",
   "execution_count": 29,
   "metadata": {},
   "outputs": [],
   "source": [
    "important_features_dict = {}\n",
    "for x,i in enumerate(tree_final.feature_importances_):\n",
    "    important_features_dict[x]=i\n",
    "\n",
    "important_features_list = sorted(important_features_dict,\n",
    "                                 key=important_features_dict.get,\n",
    "                                 reverse=True)"
   ]
  },
  {
   "cell_type": "code",
   "execution_count": 30,
   "metadata": {},
   "outputs": [
    {
     "name": "stdout",
     "output_type": "stream",
     "text": [
      "               Feature  Importance\n",
      "2237         X65550_at       100.0\n",
      "0            A28102_at         0.0\n",
      "1767         U57721_at         0.0\n",
      "1759         U55936_at         0.0\n",
      "1760       U56402_s_at         0.0\n",
      "...                ...         ...\n",
      "883          L76191_at         0.0\n",
      "884          L76200_at         0.0\n",
      "885        L76528_s_at         0.0\n",
      "886   L76568_xpt3_f_at         0.0\n",
      "2646         Z97074_at         0.0\n",
      "\n",
      "[2647 rows x 2 columns]\n"
     ]
    }
   ],
   "source": [
    "# get the sorted feature list based on importance scores\n",
    "\n",
    "# create an empty dictionary of features and importance scores\n",
    "featureImpList= []\n",
    "feature_names=list(df_fp.columns)\n",
    "\n",
    "for feat, importance in zip(feature_names, tree_final.feature_importances_):  \n",
    "    temp = [feat, importance*100]\n",
    "    featureImpList.append(temp)\n",
    "\n",
    "# create a dataframe\n",
    "fT_df = pd.DataFrame(featureImpList, columns = ['Feature', 'Importance'])\n",
    "\n",
    "# sort the values\n",
    "fT_df_sorted = fT_df.sort_values('Importance', ascending = False)\n",
    "print (fT_df_sorted)\n"
   ]
  },
  {
   "cell_type": "code",
   "execution_count": 31,
   "metadata": {},
   "outputs": [
    {
     "name": "stdout",
     "output_type": "stream",
     "text": [
      "              precision    recall  f1-score   support\n",
      "\n",
      "           0       0.50      0.25      0.33         4\n",
      "           1       0.79      0.92      0.85        12\n",
      "\n",
      "    accuracy                           0.75        16\n",
      "   macro avg       0.64      0.58      0.59        16\n",
      "weighted avg       0.71      0.75      0.72        16\n",
      "\n"
     ]
    }
   ],
   "source": [
    "#Classification report for sensitivity, specificity, accuracy, and F1 for Decision Tree Model\n",
    "print(classification_report(y_test,y_pred))"
   ]
  },
  {
   "cell_type": "markdown",
   "metadata": {},
   "source": [
    "Interpretation:\n",
    "Accuracy: 75%\n",
    "Sensitivity: 79%\n",
    "Specificity: 50%\n",
    "F1: 85%"
   ]
  },
  {
   "cell_type": "code",
   "execution_count": 32,
   "metadata": {},
   "outputs": [
    {
     "name": "stdout",
     "output_type": "stream",
     "text": [
      "Accuracy on training set: 1.000\n",
      "Accuracy on test set: 1.000\n"
     ]
    }
   ],
   "source": [
    "#Creating Random Forest Model; testing with 100 estimators\n",
    "from sklearn.ensemble import RandomForestClassifier\n",
    "rf = RandomForestClassifier(n_estimators=100, random_state=42)\n",
    "rf.fit(x_train, y_train)\n",
    "print(\"Accuracy on training set: {:.3f}\".format(rf.score(x_train, y_train)))\n",
    "print(\"Accuracy on test set: {:.3f}\".format(rf.score(x_test, y_test)))"
   ]
  },
  {
   "cell_type": "code",
   "execution_count": 33,
   "metadata": {},
   "outputs": [
    {
     "data": {
      "text/plain": [
       "GridSearchCV(cv=10, estimator=RandomForestClassifier(random_state=42),\n",
       "             param_grid={'max_depth': array([ 1,  3,  5,  7,  9, 11, 13])})"
      ]
     },
     "execution_count": 33,
     "metadata": {},
     "output_type": "execute_result"
    }
   ],
   "source": [
    "#import GridSearchCV to tune max_depth\n",
    "from sklearn.model_selection import GridSearchCV\n",
    "# the parameter to be tuned is max_depth\n",
    "param_grid_depth = {'max_depth':np.arange(1,15,2)} # get a list of depth parameters\n",
    "tree = RandomForestClassifier(random_state=42)\n",
    "tree_cv_depth= GridSearchCV(tree,param_grid_depth,cv=10)\n",
    "tree_cv_depth.fit(x_train, y_train)"
   ]
  },
  {
   "cell_type": "code",
   "execution_count": 34,
   "metadata": {},
   "outputs": [
    {
     "data": {
      "text/plain": [
       "GridSearchCV(cv=10, estimator=RandomForestClassifier(random_state=42),\n",
       "             param_grid={'min_samples_split': array([ 5, 10, 15, 20, 25, 30, 35, 40, 45, 50, 55])})"
      ]
     },
     "execution_count": 34,
     "metadata": {},
     "output_type": "execute_result"
    }
   ],
   "source": [
    "#GridSearchCV to tune min_samples_split\n",
    "param_grid_split = {'min_samples_split':np.arange(5,60,5)} # get a list of minimum samples split starting with 10 , end 50 and increment with 5\n",
    "tree = RandomForestClassifier(random_state=42)\n",
    "tree_cv_split= GridSearchCV(tree,param_grid_split,cv=10)\n",
    "tree_cv_split.fit(x_train, y_train)"
   ]
  },
  {
   "cell_type": "code",
   "execution_count": 35,
   "metadata": {},
   "outputs": [
    {
     "data": {
      "text/plain": [
       "GridSearchCV(cv=10, estimator=RandomForestClassifier(random_state=42),\n",
       "             param_grid={'n_estimators': array([ 5, 10, 15, 20, 25, 30, 35, 40, 45, 50, 55, 60, 65, 70, 75, 80, 85,\n",
       "       90, 95])})"
      ]
     },
     "execution_count": 35,
     "metadata": {},
     "output_type": "execute_result"
    }
   ],
   "source": [
    "#GridSearchCV to tune number of trees\n",
    "param_grid_estimate = {'n_estimators':np.arange(5,100,5)}\n",
    "tree = RandomForestClassifier(random_state=42)\n",
    "tree_cv_estim = GridSearchCV(tree,param_grid_estimate,cv=10)\n",
    "tree_cv_estim.fit(x_train, y_train)"
   ]
  },
  {
   "cell_type": "code",
   "execution_count": 36,
   "metadata": {},
   "outputs": [
    {
     "name": "stdout",
     "output_type": "stream",
     "text": [
      "0.9023809523809525\n",
      "{'max_depth': 5}\n",
      "0.9023809523809525\n",
      "{'min_samples_split': 10}\n",
      "0.9333333333333333\n",
      "{'n_estimators': 10}\n"
     ]
    }
   ],
   "source": [
    "#Printing the best paramet values from GridSearchCV\n",
    "print(tree_cv_depth.best_score_)\n",
    "print(tree_cv_depth.best_params_)\n",
    "print(tree_cv_split.best_score_)\n",
    "print(tree_cv_split.best_params_)\n",
    "print(tree_cv_estim.best_score_)\n",
    "print(tree_cv_estim.best_params_)"
   ]
  },
  {
   "cell_type": "code",
   "execution_count": 37,
   "metadata": {},
   "outputs": [
    {
     "data": {
      "text/plain": [
       "Text(0, 0.5, 'Accuracy')"
      ]
     },
     "execution_count": 37,
     "metadata": {},
     "output_type": "execute_result"
    },
    {
     "data": {
      "image/png": "[encoded data removed]",
      "text/plain": [
       "<Figure size 432x288 with 1 Axes>"
      ]
     },
     "metadata": {
      "needs_background": "light"
     },
     "output_type": "display_data"
    }
   ],
   "source": [
    "# Empty list to store training accuracy\n",
    "trainAcc = []\n",
    "# Empty list to store testing accuracy\n",
    "testAcc = []\n",
    "\n",
    "#Plot for training and test accuracy w varying n_estimators\n",
    "estimators_list = list(range(5,100,5))\n",
    "for k in estimators_list:\n",
    "    rf = RandomForestClassifier(n_estimators=k,random_state=0)\n",
    "    rf = rf.fit(x_train, y_train)\n",
    "    \n",
    "    y_predtrain = rf.predict(x_train)\n",
    "    trainAcc.append(accuracy_score(y_train, y_predtrain))\n",
    "    y_predtest = rf.predict(x_test)\n",
    "    testAcc.append(accuracy_score(y_test, y_predtest))\n",
    "    \n",
    "    \n",
    "    # end of for loop statement\n",
    "\n",
    "plt.plot(estimators_list, trainAcc, 'ro-', estimators_list, testAcc,'bv--')\n",
    "plt.legend(['Training Accuracy','Test Accuracy'])\n",
    "plt.xlabel('Max_depth')\n",
    "plt.ylabel('Accuracy')"
   ]
  },
  {
   "cell_type": "code",
   "execution_count": 38,
   "metadata": {},
   "outputs": [
    {
     "name": "stdout",
     "output_type": "stream",
     "text": [
      "Accuracy on training set: 1.000\n",
      "Accuracy on test set: 0.938\n"
     ]
    }
   ],
   "source": [
    "#Creating final Random Forest Model based on tuned parameters\n",
    "rf_final = RandomForestClassifier(max_depth=5, min_samples_split=10, n_estimators=10, random_state=42, oob_score=bool)\n",
    "rf_final.fit(x_train, y_train)\n",
    "print(\"Accuracy on training set: {:.3f}\".format(rf.score(x_train, y_train)))\n",
    "print(\"Accuracy on test set: {:.3f}\".format(rf.score(x_test, y_test)))"
   ]
  },
  {
   "cell_type": "code",
   "execution_count": 39,
   "metadata": {},
   "outputs": [
    {
     "data": {
      "text/html": [
       "<div>\n",
       "<style scoped>\n",
       "    .dataframe tbody tr th:only-of-type {\n",
       "        vertical-align: middle;\n",
       "    }\n",
       "\n",
       "    .dataframe tbody tr th {\n",
       "        vertical-align: top;\n",
       "    }\n",
       "\n",
       "    .dataframe thead th {\n",
       "        text-align: right;\n",
       "    }\n",
       "</style>\n",
       "<table border=\"1\" class=\"dataframe\">\n",
       "  <thead>\n",
       "    <tr style=\"text-align: right;\">\n",
       "      <th>Predicted</th>\n",
       "      <th>0</th>\n",
       "      <th>1</th>\n",
       "      <th>All</th>\n",
       "    </tr>\n",
       "    <tr>\n",
       "      <th>True</th>\n",
       "      <th></th>\n",
       "      <th></th>\n",
       "      <th></th>\n",
       "    </tr>\n",
       "  </thead>\n",
       "  <tbody>\n",
       "    <tr>\n",
       "      <th>0</th>\n",
       "      <td>4</td>\n",
       "      <td>0</td>\n",
       "      <td>4</td>\n",
       "    </tr>\n",
       "    <tr>\n",
       "      <th>1</th>\n",
       "      <td>1</td>\n",
       "      <td>11</td>\n",
       "      <td>12</td>\n",
       "    </tr>\n",
       "    <tr>\n",
       "      <th>All</th>\n",
       "      <td>5</td>\n",
       "      <td>11</td>\n",
       "      <td>16</td>\n",
       "    </tr>\n",
       "  </tbody>\n",
       "</table>\n",
       "</div>"
      ],
      "text/plain": [
       "Predicted  0   1  All\n",
       "True                 \n",
       "0          4   0    4\n",
       "1          1  11   12\n",
       "All        5  11   16"
      ]
     },
     "execution_count": 39,
     "metadata": {},
     "output_type": "execute_result"
    }
   ],
   "source": [
    "#Generating crosstab to find TP, TN, FP, FN\n",
    "y_pred =rf_final.predict(x_test)\n",
    "pd.crosstab(y_test, y_pred, rownames=['True'], colnames=['Predicted'], margins=True)"
   ]
  },
  {
   "cell_type": "code",
   "execution_count": 40,
   "metadata": {},
   "outputs": [
    {
     "name": "stdout",
     "output_type": "stream",
     "text": [
      "0.9375\n",
      "              precision    recall  f1-score   support\n",
      "\n",
      "           0       0.80      1.00      0.89         4\n",
      "           1       1.00      0.92      0.96        12\n",
      "\n",
      "    accuracy                           0.94        16\n",
      "   macro avg       0.90      0.96      0.92        16\n",
      "weighted avg       0.95      0.94      0.94        16\n",
      "\n"
     ]
    }
   ],
   "source": [
    "#Finding the Accuracy, sensitivity, and specificity\n",
    "accuracy = rf_final.score(x_test,y_test);\n",
    "print(accuracy)\n",
    "print(classification_report(y_test,y_pred))"
   ]
  },
  {
   "cell_type": "markdown",
   "metadata": {},
   "source": [
    "Interpretation:\n",
    "Accuracy: 94%\n",
    "Sensitivity: 100%\n",
    "Specificity: 80%\n",
    "F1: 96%"
   ]
  }
 ],
 "metadata": {
  "kernelspec": {
   "display_name": "Python 3",
   "language": "python",
   "name": "python3"
  },
  "language_info": {
   "codemirror_mode": {
    "name": "ipython",
    "version": 3
   },
   "file_extension": ".py",
   "mimetype": "text/x-python",
   "name": "python",
   "nbconvert_exporter": "python",
   "pygments_lexer": "ipython3",
   "version": "3.8.5"
  }
 },
 "nbformat": 4,
 "nbformat_minor": 5
}
